{
 "cells": [
  {
   "cell_type": "markdown",
   "metadata": {},
   "source": [
    "# CC1101 Functional test\n",
    "- [datasheet](https://www.ti.com/lit/ds/symlink/cc1101.pdf)\n",
    "- https://github.com/nahueldsanchez/pycc1101\n",
    "- https://github.com/Nom-DePlume/libCC1101"
   ]
  },
  {
   "cell_type": "code",
   "execution_count": 1,
   "metadata": {},
   "outputs": [],
   "source": [
    "import os, sys\n",
    "\n",
    "def gen_relative_path(target_path): \n",
    "    \n",
    "    def del_same_parents(target_path, current_path):\n",
    "        if len(target_path) * len(current_path) > 0:\n",
    "            if target_path[0] == current_path[0]:\n",
    "                target_path.pop(0)\n",
    "                current_path.pop(0)\n",
    "                del_same_parents(target_path, current_path)\n",
    "            \n",
    "    current_path = os.getcwd().replace('\\\\', '/').split('/')\n",
    "    target_path = target_path.replace('\\\\', '/').split('/')\n",
    "    del_same_parents(target_path, current_path)\n",
    "    \n",
    "    return ['..'] * len(current_path) + target_path\n",
    "\n",
    "\n",
    "def append_source_relative_path(source_relative_path):\n",
    "    sys.path.append(os.sep.join(source_relative_path))"
   ]
  },
  {
   "cell_type": "code",
   "execution_count": 2,
   "metadata": {},
   "outputs": [],
   "source": [
    "# paths = ['']\n",
    "# paths = [gen_relative_path(p) for p in paths]\n",
    "# print(paths)"
   ]
  },
  {
   "cell_type": "code",
   "execution_count": 3,
   "metadata": {},
   "outputs": [],
   "source": [
    "paths = [['..', '..', '..', '..', '..', '..', '..', '已完成', 'Bridges', 'bitbucket', 'github', 'codes'], \n",
    "         ['..', '..', '..', '..', '..', '..', 'Utilities', 'bitbucket', 'github', 'codes'], \n",
    "         ['..', '..', '..', 'codes']]\n",
    "\n",
    "for path in paths:\n",
    "    append_source_relative_path(path)"
   ]
  },
  {
   "cell_type": "code",
   "execution_count": 4,
   "metadata": {},
   "outputs": [
    {
     "name": "stdout",
     "output_type": "stream",
     "text": [
      "Populating the interactive namespace from numpy and matplotlib\n"
     ]
    }
   ],
   "source": [
    "%pylab inline\n",
    "\n",
    "from utilities.adapters import peripherals\n",
    "from bridges.ftdi.controllers.spi import SpiController\n",
    "from rf.devices.cc1101.cc1101 import CC1101\n",
    "# from rf.devices.cc1101.pycc1101 import TICC1101"
   ]
  },
  {
   "cell_type": "code",
   "execution_count": 5,
   "metadata": {
    "scrolled": false
   },
   "outputs": [],
   "source": [
    "spidev = SpiController()\n",
    "spi = spidev.SpiDev()\n",
    "\n",
    "cc = CC1101(spi = spi, debug = True)"
   ]
  },
  {
   "cell_type": "code",
   "execution_count": 6,
   "metadata": {},
   "outputs": [
    {
     "data": {
      "text/plain": [
       "0"
      ]
     },
     "execution_count": 6,
     "metadata": {},
     "output_type": "execute_result"
    }
   ],
   "source": [
    "cc._readSingleByte(0xF0)"
   ]
  },
  {
   "cell_type": "code",
   "execution_count": 7,
   "metadata": {
    "scrolled": false
   },
   "outputs": [
    {
     "name": "stdout",
     "output_type": "stream",
     "text": [
      "0x00 41\n",
      "0x01 46\n",
      "0x02 63\n",
      "0x03 7\n",
      "0x04 211\n",
      "0x05 145\n",
      "0x06 255\n",
      "0x07 4\n",
      "0x08 69\n",
      "0x09 0\n",
      "0x0a 0\n",
      "0x0b 15\n",
      "0x0c 0\n",
      "0x0d 30\n",
      "0x0e 196\n",
      "0x0f 236\n",
      "0x10 140\n",
      "0x11 34\n",
      "0x12 2\n",
      "0x13 34\n",
      "0x14 248\n",
      "0x15 71\n",
      "0x16 7\n",
      "0x17 48\n",
      "0x18 4\n",
      "0x19 118\n",
      "0x1a 108\n",
      "0x1b 3\n",
      "0x1c 64\n",
      "0x1d 145\n",
      "0x1e 135\n",
      "0x1f 107\n",
      "0x20 248\n",
      "0x21 86\n",
      "0x22 16\n",
      "0x23 169\n",
      "0x24 10\n",
      "0x25 32\n",
      "0x26 13\n",
      "0x27 65\n",
      "0x28 0\n",
      "0x29 89\n",
      "0x2a 127\n",
      "0x2b 63\n",
      "0x2c 136\n",
      "0x2d 49\n",
      "0x2e 11\n",
      "0x2f 0\n",
      "0x30 255\n",
      "0x31 15\n",
      "0x32 143\n",
      "0x33 79\n",
      "0x34 79\n",
      "0x35 95\n",
      "0x36 47\n",
      "0x37 15\n",
      "0x38 15\n",
      "0x39 255\n",
      "0x3a 15\n",
      "0x3b 15\n",
      "0x3c 15\n",
      "0x3d 15\n"
     ]
    }
   ],
   "source": [
    "for addr in range(0x00, 0x3d + 1):    \n",
    "    print('0x{:02x}'.format(addr), cc._readSingleByte(addr))"
   ]
  },
  {
   "cell_type": "code",
   "execution_count": 8,
   "metadata": {},
   "outputs": [
    {
     "name": "stdout",
     "output_type": "stream",
     "text": [
      "Part Number: 0\n",
      "Component Version: 14\n",
      "Self test OK\n",
      "128\n",
      "version 20\n"
     ]
    }
   ],
   "source": [
    "\n",
    "spidev = SpiController()\n",
    "spi = spidev.SpiDev()\n",
    "cc = CC1101(spi = spi)\n",
    "\n",
    "cc.reset()\n",
    "cc.selfTest()\n",
    "\n",
    "print(cc.getRSSI())\n",
    "print('version', cc._readSingleByte(0x31 | 0xc0))\n"
   ]
  },
  {
   "cell_type": "code",
   "execution_count": 9,
   "metadata": {},
   "outputs": [
    {
     "data": {
      "text/plain": [
       "20"
      ]
     },
     "execution_count": 9,
     "metadata": {},
     "output_type": "execute_result"
    }
   ],
   "source": [
    "cc._readSingleByte(cc.VERSION)"
   ]
  }
 ],
 "metadata": {
  "kernelspec": {
   "display_name": "Python 3",
   "language": "python",
   "name": "python3"
  },
  "language_info": {
   "codemirror_mode": {
    "name": "ipython",
    "version": 3
   },
   "file_extension": ".py",
   "mimetype": "text/x-python",
   "name": "python",
   "nbconvert_exporter": "python",
   "pygments_lexer": "ipython3",
   "version": "3.6.10"
  }
 },
 "nbformat": 4,
 "nbformat_minor": 2
}
